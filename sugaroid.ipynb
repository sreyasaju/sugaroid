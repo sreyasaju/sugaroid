{
  "nbformat": 4,
  "nbformat_minor": 0,
  "metadata": {
    "colab": {
      "name": "sugaroid.ipynb",
      "provenance": [],
      "collapsed_sections": [],
      "authorship_tag": "ABX9TyNB2CtDXywtmgkcG+9QFXtP",
      "include_colab_link": true
    },
    "kernelspec": {
      "name": "python3",
      "display_name": "Python 3"
    }
  },
  "cells": [
    {
      "cell_type": "markdown",
      "metadata": {
        "id": "view-in-github",
        "colab_type": "text"
      },
      "source": [
        "<a href=\"https://colab.research.google.com/github/srevinsaju/sugaroid/blob/master/sugaroid.ipynb\" target=\"_parent\"><img src=\"https://colab.research.google.com/assets/colab-badge.svg\" alt=\"Open In Colab\"/></a>"
      ]
    },
    {
      "cell_type": "markdown",
      "metadata": {
        "id": "tx4x1Wsg9Z_F",
        "colab_type": "text"
      },
      "source": [
        "# Sugaroid\n",
        "A Google Colab Notebook to demonstrate Sugaroid's performance on Google TPUs"
      ]
    },
    {
      "cell_type": "markdown",
      "metadata": {
        "id": "iun-V3af9wKA",
        "colab_type": "text"
      },
      "source": [
        "Click on `[ ]` to install Sugaroid on the container"
      ]
    },
    {
      "cell_type": "code",
      "metadata": {
        "id": "sJYSxd2M5G0D",
        "colab_type": "code",
        "colab": {}
      },
      "source": [
        "!pip install sugaroid"
      ],
      "execution_count": null,
      "outputs": []
    },
    {
      "cell_type": "code",
      "metadata": {
        "id": "RQmfsKH95kQT",
        "colab_type": "code",
        "colab": {}
      },
      "source": [
        "from sugaroid.sugaroid import main\n",
        "main()  # starts sugaroid container"
      ],
      "execution_count": null,
      "outputs": []
    },
    {
      "cell_type": "code",
      "metadata": {
        "id": "9oyN_1BS-HL0",
        "colab_type": "code",
        "colab": {}
      },
      "source": [
        "from timeit import timeit\n",
        "from sugaroid.sugaroid import Sugaroid\n",
        "t1 = timeit(\"Sugaroid()\", globals=globals(), number=5)\n",
        "print(\"Time taken to initialize Sugaroid : {}\".format(t1))"
      ],
      "execution_count": null,
      "outputs": []
    },
    {
      "cell_type": "code",
      "metadata": {
        "id": "ETMTrMoP-K_f",
        "colab_type": "code",
        "colab": {}
      },
      "source": [
        "t1 = timeit(\"sg = Sugaroid(); sg.parse('Hello World')\", globals=globals(), number=1\n",
        "            )\n",
        "print(\"Time taken for sg.parse => Hello World\",t1)\n"
      ],
      "execution_count": null,
      "outputs": []
    },
    {
      "cell_type": "code",
      "metadata": {
        "id": "NAoClEEg_07K",
        "colab_type": "code",
        "colab": {}
      },
      "source": [
        ""
      ],
      "execution_count": null,
      "outputs": []
    }
  ]
}